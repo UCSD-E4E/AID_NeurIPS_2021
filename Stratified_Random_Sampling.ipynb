{
 "cells": [
  {
   "cell_type": "code",
   "execution_count": 1,
   "id": "b9effe34",
   "metadata": {},
   "outputs": [],
   "source": [
    "import pandas as pd\n",
    "from datetime import datetime"
   ]
  },
  {
   "cell_type": "code",
   "execution_count": 2,
   "id": "355dcc89",
   "metadata": {},
   "outputs": [],
   "source": [
    "path = \"Scripps_Microfaune_Global_Scores.csv\""
   ]
  },
  {
   "cell_type": "code",
   "execution_count": 3,
   "id": "9d06fd6d",
   "metadata": {},
   "outputs": [],
   "source": [
    "def stratify_datafile(filepath,destination_filepath, count = 1):    \n",
    "    df = pd.read_csv(filepath)\n",
    "    df = df[(df['AudioMothCode'].notna()) & \n",
    "            (df['Duration'].notna()) & \n",
    "            (df['Comment'].notna()) & \n",
    "            (df['FileSize'].notna()) &\n",
    "            (df['Duration'] >= 60.0) &\n",
    "            (df['FileSize'] >= 40000000)]\n",
    "    \n",
    "    df['hour'] = df['Comment'].apply(lambda x: datetime.strptime(' '.join(x.split()[2:4]), \n",
    "                                                                 '%H:%M:%S %d/%m/%Y'))\\\n",
    "                              .dt\\\n",
    "                              .hour\\\n",
    "                              .tolist()\n",
    "    \n",
    "    df = df.groupby([\"AudioMothCode\", \"hour\"])\\\n",
    "           .apply(lambda x: x.sample(count))\\\n",
    "           .drop(columns='hour')\n",
    "    \n",
    "    if df.size > 0:\n",
    "        df.to_csv(destination_filepath, index=False)\n",
    "        return True\n",
    "    return False"
   ]
  },
  {
   "cell_type": "code",
   "execution_count": 4,
   "id": "8c230eb4",
   "metadata": {},
   "outputs": [
    {
     "data": {
      "text/plain": [
       "True"
      ]
     },
     "execution_count": 4,
     "metadata": {},
     "output_type": "execute_result"
    }
   ],
   "source": [
    "stratify_datafile(path,\"Stratified_Random_Sample.csv\")\n",
    "stratify_datafile(path,\"Stratified_Random_Sample_DawnDusk.csv\",4)"
   ]
  },
  {
   "cell_type": "code",
   "execution_count": 5,
   "id": "71679c23",
   "metadata": {},
   "outputs": [],
   "source": [
    "def stratify_datafile_skewed(filepath,destination_filepath, count = 1):    \n",
    "    df = pd.read_csv(filepath)\n",
    "    df = df[(df['AudioMothCode'].notna()) & \n",
    "            (df['Duration'].notna()) & \n",
    "            (df['Comment'].notna()) & \n",
    "            (df['FileSize'].notna()) &\n",
    "            (df['Duration'] >= 60.0) &\n",
    "            (df['FileSize'] >= 40000000) &\n",
    "            (df['GlobalScore'] >= 0.50)]\n",
    "    \n",
    "    df['hour'] = df['Comment'].apply(lambda x: datetime.strptime(' '.join(x.split()[2:4]), \n",
    "                                                                 '%H:%M:%S %d/%m/%Y'))\\\n",
    "                              .dt\\\n",
    "                              .hour\\\n",
    "                              .tolist()\n",
    "    \n",
    "    df = df.groupby([\"AudioMothCode\", \"hour\"])\\\n",
    "           .apply(lambda x: x.sample(count))\\\n",
    "           .drop(columns='hour')\n",
    "    \n",
    "    if df.size > 0:\n",
    "        df.to_csv(destination_filepath, index=False)\n",
    "        return True\n",
    "    return False"
   ]
  },
  {
   "cell_type": "code",
   "execution_count": null,
   "id": "81a47454",
   "metadata": {},
   "outputs": [],
   "source": []
  },
  {
   "cell_type": "code",
   "execution_count": 6,
   "id": "17a8bd0a",
   "metadata": {},
   "outputs": [
    {
     "data": {
      "text/plain": [
       "True"
      ]
     },
     "execution_count": 6,
     "metadata": {},
     "output_type": "execute_result"
    }
   ],
   "source": [
    "# The first Skewed Datapath\n",
    "stratify_datafile_skewed(path,\"Scripps_Microfaune_Global_Scores_Stratified_Skewed.csv\")"
   ]
  },
  {
   "cell_type": "code",
   "execution_count": 7,
   "id": "77b07c90",
   "metadata": {},
   "outputs": [],
   "source": [
    "# We are defining Dawn as starting at 5:50 AM ==> 5.83 and ending at 9:40 AM ==> 9.67\n",
    "# We are defining Dusk as start at 5:40 PM ==> 17.67 and ending at 8 PM 20.00"
   ]
  },
  {
   "cell_type": "code",
   "execution_count": 9,
   "id": "7ac690b5",
   "metadata": {},
   "outputs": [
    {
     "data": {
      "text/plain": [
       "True"
      ]
     },
     "execution_count": 9,
     "metadata": {},
     "output_type": "execute_result"
    }
   ],
   "source": [
    "stratify_datafile_skewed(path,\"Scripps_Microfaune_Global_Scores_Stratified_DawnDusk.csv\",3)\n",
    "# Skewed + DawnDusk"
   ]
  },
  {
   "cell_type": "code",
   "execution_count": 10,
   "id": "b69cb8ca",
   "metadata": {},
   "outputs": [],
   "source": [
    "# Vanilla + Dawndusk Post-processing\n",
    "dawndusk_df1 = pd.read_csv(\"Stratified_Random_Sample_DawnDusk.csv\")\n",
    "test1 = dawndusk_df1[ ( (dawndusk_df1[\"Time (PDT)\"] >= 5.8) & (dawndusk_df1[\"Time (PDT)\"] <= 9.7) ) | ( (dawndusk_df1[\"Time (PDT)\"] >= 17.6) & (dawndusk_df1[\"Time (PDT)\"] <= 20.1) )]"
   ]
  },
  {
   "cell_type": "code",
   "execution_count": 12,
   "id": "1470048e",
   "metadata": {},
   "outputs": [],
   "source": [
    "# This one is good to go, I just need to sample 240 from it to reduce down from ~260 that it is currently at\n",
    "#test1.to_csv(\"Stratified_Random_Sample_Vanilla_DawnDusk.csv\",index=False)"
   ]
  },
  {
   "cell_type": "code",
   "execution_count": 13,
   "id": "e5c8438f",
   "metadata": {},
   "outputs": [],
   "source": [
    "# Skewed + Dawndusk Post-processing\n",
    "dawndusk_df2 = pd.read_csv(\"Scripps_Microfaune_Global_Scores_Stratified_Skewed.csv\")\n",
    "test2 = dawndusk_df2[ ( (dawndusk_df2[\"Time (PDT)\"] >= 5.8) & (dawndusk_df2[\"Time (PDT)\"] <= 9.7) ) | ( (dawndusk_df2[\"Time (PDT)\"] >= 17.6) & (dawndusk_df2[\"Time (PDT)\"] <= 20.1) )]"
   ]
  },
  {
   "cell_type": "code",
   "execution_count": 14,
   "id": "23ea0e99",
   "metadata": {
    "scrolled": true
   },
   "outputs": [
    {
     "data": {
      "text/html": [
       "<div>\n",
       "<style scoped>\n",
       "    .dataframe tbody tr th:only-of-type {\n",
       "        vertical-align: middle;\n",
       "    }\n",
       "\n",
       "    .dataframe tbody tr th {\n",
       "        vertical-align: top;\n",
       "    }\n",
       "\n",
       "    .dataframe thead th {\n",
       "        text-align: right;\n",
       "    }\n",
       "</style>\n",
       "<table border=\"1\" class=\"dataframe\">\n",
       "  <thead>\n",
       "    <tr style=\"text-align: right;\">\n",
       "      <th></th>\n",
       "      <th>AudioMothCode</th>\n",
       "      <th>AudioMothID</th>\n",
       "      <th>SourceFile</th>\n",
       "      <th>Directory</th>\n",
       "      <th>FileName</th>\n",
       "      <th>FileSize</th>\n",
       "      <th>SampleRate</th>\n",
       "      <th>Bitrate</th>\n",
       "      <th>BitsPerSample</th>\n",
       "      <th>Duration</th>\n",
       "      <th>Comment</th>\n",
       "      <th>Latitude</th>\n",
       "      <th>Longitude</th>\n",
       "      <th>GlobalScore</th>\n",
       "      <th>Time (PDT)</th>\n",
       "    </tr>\n",
       "  </thead>\n",
       "  <tbody>\n",
       "    <tr>\n",
       "      <th>1</th>\n",
       "      <td>OFF0</td>\n",
       "      <td>AudioMoth 242A260460372176</td>\n",
       "      <td>OFF0/20210820013000.WAV</td>\n",
       "      <td>OFF0</td>\n",
       "      <td>20210820013000.WAV</td>\n",
       "      <td>46080488</td>\n",
       "      <td>384000.0</td>\n",
       "      <td>6000.0</td>\n",
       "      <td>16</td>\n",
       "      <td>60.0</td>\n",
       "      <td>Recorded at 01:30:00 20/08/2021 (UTC) by Audio...</td>\n",
       "      <td>32.87618</td>\n",
       "      <td>117.24717</td>\n",
       "      <td>0.981866</td>\n",
       "      <td>18.500000</td>\n",
       "    </tr>\n",
       "    <tr>\n",
       "      <th>2</th>\n",
       "      <td>OFF0</td>\n",
       "      <td>AudioMoth 242A260460372176</td>\n",
       "      <td>OFF0/20210813023000.WAV</td>\n",
       "      <td>OFF0</td>\n",
       "      <td>20210813023000.WAV</td>\n",
       "      <td>46080488</td>\n",
       "      <td>384000.0</td>\n",
       "      <td>6000.0</td>\n",
       "      <td>16</td>\n",
       "      <td>60.0</td>\n",
       "      <td>Recorded at 02:30:00 13/08/2021 (UTC) by Audio...</td>\n",
       "      <td>32.87618</td>\n",
       "      <td>117.24717</td>\n",
       "      <td>0.975981</td>\n",
       "      <td>19.500000</td>\n",
       "    </tr>\n",
       "    <tr>\n",
       "      <th>3</th>\n",
       "      <td>OFF0</td>\n",
       "      <td>AudioMoth 242A260460372176</td>\n",
       "      <td>OFF0/20210816030000.WAV</td>\n",
       "      <td>OFF0</td>\n",
       "      <td>20210816030000.WAV</td>\n",
       "      <td>46080488</td>\n",
       "      <td>384000.0</td>\n",
       "      <td>6000.0</td>\n",
       "      <td>16</td>\n",
       "      <td>60.0</td>\n",
       "      <td>Recorded at 03:00:00 16/08/2021 (UTC) by Audio...</td>\n",
       "      <td>32.87618</td>\n",
       "      <td>117.24717</td>\n",
       "      <td>0.630479</td>\n",
       "      <td>20.000000</td>\n",
       "    </tr>\n",
       "    <tr>\n",
       "      <th>13</th>\n",
       "      <td>OFF0</td>\n",
       "      <td>AudioMoth 242A260460372176</td>\n",
       "      <td>OFF0/20210819134000.WAV</td>\n",
       "      <td>OFF0</td>\n",
       "      <td>20210819134000.WAV</td>\n",
       "      <td>46080488</td>\n",
       "      <td>384000.0</td>\n",
       "      <td>6000.0</td>\n",
       "      <td>16</td>\n",
       "      <td>60.0</td>\n",
       "      <td>Recorded at 13:40:00 19/08/2021 (UTC) by Audio...</td>\n",
       "      <td>32.87618</td>\n",
       "      <td>117.24717</td>\n",
       "      <td>0.963063</td>\n",
       "      <td>6.666667</td>\n",
       "    </tr>\n",
       "    <tr>\n",
       "      <th>14</th>\n",
       "      <td>OFF0</td>\n",
       "      <td>AudioMoth 242A260460372176</td>\n",
       "      <td>OFF0/20210813143000.WAV</td>\n",
       "      <td>OFF0</td>\n",
       "      <td>20210813143000.WAV</td>\n",
       "      <td>46080488</td>\n",
       "      <td>384000.0</td>\n",
       "      <td>6000.0</td>\n",
       "      <td>16</td>\n",
       "      <td>60.0</td>\n",
       "      <td>Recorded at 14:30:00 13/08/2021 (UTC) by Audio...</td>\n",
       "      <td>32.87618</td>\n",
       "      <td>117.24717</td>\n",
       "      <td>0.993789</td>\n",
       "      <td>7.500000</td>\n",
       "    </tr>\n",
       "    <tr>\n",
       "      <th>...</th>\n",
       "      <td>...</td>\n",
       "      <td>...</td>\n",
       "      <td>...</td>\n",
       "      <td>...</td>\n",
       "      <td>...</td>\n",
       "      <td>...</td>\n",
       "      <td>...</td>\n",
       "      <td>...</td>\n",
       "      <td>...</td>\n",
       "      <td>...</td>\n",
       "      <td>...</td>\n",
       "      <td>...</td>\n",
       "      <td>...</td>\n",
       "      <td>...</td>\n",
       "      <td>...</td>\n",
       "    </tr>\n",
       "    <tr>\n",
       "      <th>216</th>\n",
       "      <td>OTH1</td>\n",
       "      <td>AudioMoth 242A2604603736FD</td>\n",
       "      <td>OTH1/20210814024000.WAV</td>\n",
       "      <td>OTH1</td>\n",
       "      <td>20210814024000.WAV</td>\n",
       "      <td>46080488</td>\n",
       "      <td>384000.0</td>\n",
       "      <td>6000.0</td>\n",
       "      <td>16</td>\n",
       "      <td>60.0</td>\n",
       "      <td>Recorded at 02:40:00 14/08/2021 (UTC) by Audio...</td>\n",
       "      <td>32.87637</td>\n",
       "      <td>117.24926</td>\n",
       "      <td>0.994294</td>\n",
       "      <td>19.666667</td>\n",
       "    </tr>\n",
       "    <tr>\n",
       "      <th>227</th>\n",
       "      <td>OTH1</td>\n",
       "      <td>AudioMoth 242A2604603736FD</td>\n",
       "      <td>OTH1/20210821134000.WAV</td>\n",
       "      <td>OTH1</td>\n",
       "      <td>20210821134000.WAV</td>\n",
       "      <td>46080488</td>\n",
       "      <td>384000.0</td>\n",
       "      <td>6000.0</td>\n",
       "      <td>16</td>\n",
       "      <td>60.0</td>\n",
       "      <td>Recorded at 13:40:00 21/08/2021 (UTC) by Audio...</td>\n",
       "      <td>32.87637</td>\n",
       "      <td>117.24926</td>\n",
       "      <td>0.988743</td>\n",
       "      <td>6.666667</td>\n",
       "    </tr>\n",
       "    <tr>\n",
       "      <th>228</th>\n",
       "      <td>OTH1</td>\n",
       "      <td>AudioMoth 242A2604603736FD</td>\n",
       "      <td>OTH1/20210817145000.WAV</td>\n",
       "      <td>OTH1</td>\n",
       "      <td>20210817145000.WAV</td>\n",
       "      <td>46080488</td>\n",
       "      <td>384000.0</td>\n",
       "      <td>6000.0</td>\n",
       "      <td>16</td>\n",
       "      <td>60.0</td>\n",
       "      <td>Recorded at 14:50:00 17/08/2021 (UTC) by Audio...</td>\n",
       "      <td>32.87637</td>\n",
       "      <td>117.24926</td>\n",
       "      <td>0.670358</td>\n",
       "      <td>7.833333</td>\n",
       "    </tr>\n",
       "    <tr>\n",
       "      <th>229</th>\n",
       "      <td>OTH1</td>\n",
       "      <td>AudioMoth 242A2604603736FD</td>\n",
       "      <td>OTH1/20210816152000.WAV</td>\n",
       "      <td>OTH1</td>\n",
       "      <td>20210816152000.WAV</td>\n",
       "      <td>46080488</td>\n",
       "      <td>384000.0</td>\n",
       "      <td>6000.0</td>\n",
       "      <td>16</td>\n",
       "      <td>60.0</td>\n",
       "      <td>Recorded at 15:20:00 16/08/2021 (UTC) by Audio...</td>\n",
       "      <td>32.87637</td>\n",
       "      <td>117.24926</td>\n",
       "      <td>0.992499</td>\n",
       "      <td>8.333333</td>\n",
       "    </tr>\n",
       "    <tr>\n",
       "      <th>230</th>\n",
       "      <td>OTH1</td>\n",
       "      <td>AudioMoth 242A2604603736FD</td>\n",
       "      <td>OTH1/20210817163000.WAV</td>\n",
       "      <td>OTH1</td>\n",
       "      <td>20210817163000.WAV</td>\n",
       "      <td>46080488</td>\n",
       "      <td>384000.0</td>\n",
       "      <td>6000.0</td>\n",
       "      <td>16</td>\n",
       "      <td>60.0</td>\n",
       "      <td>Recorded at 16:30:00 17/08/2021 (UTC) by Audio...</td>\n",
       "      <td>32.87637</td>\n",
       "      <td>117.24926</td>\n",
       "      <td>0.970373</td>\n",
       "      <td>9.500000</td>\n",
       "    </tr>\n",
       "  </tbody>\n",
       "</table>\n",
       "<p>70 rows × 15 columns</p>\n",
       "</div>"
      ],
      "text/plain": [
       "    AudioMothCode                 AudioMothID               SourceFile  \\\n",
       "1            OFF0  AudioMoth 242A260460372176  OFF0/20210820013000.WAV   \n",
       "2            OFF0  AudioMoth 242A260460372176  OFF0/20210813023000.WAV   \n",
       "3            OFF0  AudioMoth 242A260460372176  OFF0/20210816030000.WAV   \n",
       "13           OFF0  AudioMoth 242A260460372176  OFF0/20210819134000.WAV   \n",
       "14           OFF0  AudioMoth 242A260460372176  OFF0/20210813143000.WAV   \n",
       "..            ...                         ...                      ...   \n",
       "216          OTH1  AudioMoth 242A2604603736FD  OTH1/20210814024000.WAV   \n",
       "227          OTH1  AudioMoth 242A2604603736FD  OTH1/20210821134000.WAV   \n",
       "228          OTH1  AudioMoth 242A2604603736FD  OTH1/20210817145000.WAV   \n",
       "229          OTH1  AudioMoth 242A2604603736FD  OTH1/20210816152000.WAV   \n",
       "230          OTH1  AudioMoth 242A2604603736FD  OTH1/20210817163000.WAV   \n",
       "\n",
       "    Directory            FileName  FileSize  SampleRate  Bitrate  \\\n",
       "1        OFF0  20210820013000.WAV  46080488    384000.0   6000.0   \n",
       "2        OFF0  20210813023000.WAV  46080488    384000.0   6000.0   \n",
       "3        OFF0  20210816030000.WAV  46080488    384000.0   6000.0   \n",
       "13       OFF0  20210819134000.WAV  46080488    384000.0   6000.0   \n",
       "14       OFF0  20210813143000.WAV  46080488    384000.0   6000.0   \n",
       "..        ...                 ...       ...         ...      ...   \n",
       "216      OTH1  20210814024000.WAV  46080488    384000.0   6000.0   \n",
       "227      OTH1  20210821134000.WAV  46080488    384000.0   6000.0   \n",
       "228      OTH1  20210817145000.WAV  46080488    384000.0   6000.0   \n",
       "229      OTH1  20210816152000.WAV  46080488    384000.0   6000.0   \n",
       "230      OTH1  20210817163000.WAV  46080488    384000.0   6000.0   \n",
       "\n",
       "     BitsPerSample  Duration  \\\n",
       "1               16      60.0   \n",
       "2               16      60.0   \n",
       "3               16      60.0   \n",
       "13              16      60.0   \n",
       "14              16      60.0   \n",
       "..             ...       ...   \n",
       "216             16      60.0   \n",
       "227             16      60.0   \n",
       "228             16      60.0   \n",
       "229             16      60.0   \n",
       "230             16      60.0   \n",
       "\n",
       "                                               Comment  Latitude  Longitude  \\\n",
       "1    Recorded at 01:30:00 20/08/2021 (UTC) by Audio...  32.87618  117.24717   \n",
       "2    Recorded at 02:30:00 13/08/2021 (UTC) by Audio...  32.87618  117.24717   \n",
       "3    Recorded at 03:00:00 16/08/2021 (UTC) by Audio...  32.87618  117.24717   \n",
       "13   Recorded at 13:40:00 19/08/2021 (UTC) by Audio...  32.87618  117.24717   \n",
       "14   Recorded at 14:30:00 13/08/2021 (UTC) by Audio...  32.87618  117.24717   \n",
       "..                                                 ...       ...        ...   \n",
       "216  Recorded at 02:40:00 14/08/2021 (UTC) by Audio...  32.87637  117.24926   \n",
       "227  Recorded at 13:40:00 21/08/2021 (UTC) by Audio...  32.87637  117.24926   \n",
       "228  Recorded at 14:50:00 17/08/2021 (UTC) by Audio...  32.87637  117.24926   \n",
       "229  Recorded at 15:20:00 16/08/2021 (UTC) by Audio...  32.87637  117.24926   \n",
       "230  Recorded at 16:30:00 17/08/2021 (UTC) by Audio...  32.87637  117.24926   \n",
       "\n",
       "     GlobalScore  Time (PDT)  \n",
       "1       0.981866   18.500000  \n",
       "2       0.975981   19.500000  \n",
       "3       0.630479   20.000000  \n",
       "13      0.963063    6.666667  \n",
       "14      0.993789    7.500000  \n",
       "..           ...         ...  \n",
       "216     0.994294   19.666667  \n",
       "227     0.988743    6.666667  \n",
       "228     0.670358    7.833333  \n",
       "229     0.992499    8.333333  \n",
       "230     0.970373    9.500000  \n",
       "\n",
       "[70 rows x 15 columns]"
      ]
     },
     "execution_count": 14,
     "metadata": {},
     "output_type": "execute_result"
    }
   ],
   "source": [
    "test2"
   ]
  },
  {
   "cell_type": "code",
   "execution_count": 19,
   "id": "f7dd7530",
   "metadata": {},
   "outputs": [],
   "source": [
    "# We are defining Dawn as starting at 5:50 AM ==> 5.83 and ending at 9:40 AM ==> 9.67\n",
    "# We are defining Dusk as start at 5:40 PM ==> 17.67 and ending at 8 PM 20.00\n",
    "def stratify_datafile_skewed_dawndusk(filepath,destination_filepath, count = 1):    \n",
    "    df = pd.read_csv(filepath)\n",
    "    df = df[(df['AudioMothCode'].notna()) & \n",
    "            (df['Duration'].notna()) & \n",
    "            (df['Comment'].notna()) & \n",
    "            (df['FileSize'].notna()) &\n",
    "            (df['Duration'] >= 60.0) &\n",
    "            (df['FileSize'] >= 40000000) &\n",
    "            (df['GlobalScore'] >= 0.50) &\n",
    "            ( ( (df[\"Time (PDT)\"] >= 5.8) & (df[\"Time (PDT)\"] <= 9.7)) | ( (df[\"Time (PDT)\"] >= 17.6) & (df[\"Time (PDT)\"] <= 20.01)) )]\n",
    "    \n",
    "    df['hour'] = df['Comment'].apply(lambda x: datetime.strptime(' '.join(x.split()[2:4]), \n",
    "                                                                 '%H:%M:%S %d/%m/%Y'))\\\n",
    "                              .dt\\\n",
    "                              .hour\\\n",
    "                              .tolist()\n",
    "    \n",
    "    df = df.groupby([\"AudioMothCode\", \"hour\"])\\\n",
    "           .apply(lambda x: x.sample(count))\\\n",
    "           .drop(columns='hour')\n",
    "    \n",
    "    if df.size > 0:\n",
    "        df.to_csv(destination_filepath, index=False)\n",
    "        return True\n",
    "    return False"
   ]
  },
  {
   "cell_type": "code",
   "execution_count": 21,
   "id": "e3eead0a",
   "metadata": {},
   "outputs": [
    {
     "data": {
      "text/plain": [
       "True"
      ]
     },
     "execution_count": 21,
     "metadata": {},
     "output_type": "execute_result"
    }
   ],
   "source": [
    "stratify_datafile_skewed_dawndusk(path,\"Stratified_skewed_Dawndusk2.csv\",2)"
   ]
  },
  {
   "cell_type": "code",
   "execution_count": 22,
   "id": "9e45bf34",
   "metadata": {},
   "outputs": [],
   "source": [
    "# breaking down the skewed dawn-dusk into 240 clips\n",
    "skewed_dawndusk_df = pd.read_csv(\"Skewed_and_DawnDusk.csv\")"
   ]
  },
  {
   "cell_type": "code",
   "execution_count": 23,
   "id": "3fa3ebe8",
   "metadata": {},
   "outputs": [],
   "source": [
    "skewed_dawndusk_reduced_df = skewed_dawndusk_df.sample(240)"
   ]
  },
  {
   "cell_type": "code",
   "execution_count": 25,
   "id": "8df321f8",
   "metadata": {},
   "outputs": [],
   "source": [
    "skewed_dawndusk_reduced_df.to_csv(\"Skewed_Dawndusk_Final.csv\",index=False)"
   ]
  },
  {
   "cell_type": "code",
   "execution_count": 26,
   "id": "10316e37",
   "metadata": {},
   "outputs": [],
   "source": [
    "# Breaking down the dawn-dusk into 240 clips\n",
    "dawndusk_df = pd.read_csv(\"Stratified_Random_Sample_Vanilla_DawnDusk.csv\")\n",
    "dawndusk_reduced_df = dawndusk_df.sample(240)\n",
    "dawndusk_reduced_df.to_csv(\"Dawndusk_Final.csv\",index=False)"
   ]
  },
  {
   "cell_type": "code",
   "execution_count": null,
   "id": "7c41a9ce",
   "metadata": {},
   "outputs": [],
   "source": []
  }
 ],
 "metadata": {
  "kernelspec": {
   "display_name": "Python 3",
   "language": "python",
   "name": "python3"
  },
  "language_info": {
   "codemirror_mode": {
    "name": "ipython",
    "version": 3
   },
   "file_extension": ".py",
   "mimetype": "text/x-python",
   "name": "python",
   "nbconvert_exporter": "python",
   "pygments_lexer": "ipython3",
   "version": "3.7.10"
  }
 },
 "nbformat": 4,
 "nbformat_minor": 5
}
