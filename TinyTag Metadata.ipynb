{
 "cells": [
  {
   "cell_type": "code",
   "execution_count": 2,
   "id": "128bd7c3",
   "metadata": {},
   "outputs": [],
   "source": [
    "from tinytag.tinytag import TinyTag"
   ]
  },
  {
   "cell_type": "code",
   "execution_count": 3,
   "id": "e3980cf7",
   "metadata": {},
   "outputs": [],
   "source": [
    "path = \"20210815_110000_OFF5.WAV\""
   ]
  },
  {
   "cell_type": "code",
   "execution_count": 5,
   "id": "6d4f7aa6",
   "metadata": {},
   "outputs": [
    {
     "name": "stdout",
     "output_type": "stream",
     "text": [
      "{\"album\": null, \"albumartist\": null, \"artist\": \"AudioMoth 24F31901603746B3\", \"audio_offest\": 480, \"audio_offset\": null, \"bitrate\": 6000.0, \"channels\": 1, \"comment\": \"Recorded at 11:00:00 15/08/2021 (UTC) by AudioMoth 24F31901603746B3 at medium gain while battery was 4.1V and temperature was 20.4C.\", \"composer\": null, \"disc\": null, \"disc_total\": null, \"duration\": 60.0, \"extra\": {}, \"filesize\": 46080488, \"genre\": null, \"samplerate\": 384000, \"title\": null, \"track\": null, \"track_total\": null, \"year\": null}\n"
     ]
    }
   ],
   "source": [
    "tag = TinyTag.get(path)\n",
    "print(tag)"
   ]
  },
  {
   "cell_type": "code",
   "execution_count": null,
   "id": "4986709c",
   "metadata": {},
   "outputs": [],
   "source": []
  }
 ],
 "metadata": {
  "kernelspec": {
   "display_name": "Python 3",
   "language": "python",
   "name": "python3"
  },
  "language_info": {
   "codemirror_mode": {
    "name": "ipython",
    "version": 3
   },
   "file_extension": ".py",
   "mimetype": "text/x-python",
   "name": "python",
   "nbconvert_exporter": "python",
   "pygments_lexer": "ipython3",
   "version": "3.7.10"
  }
 },
 "nbformat": 4,
 "nbformat_minor": 5
}
