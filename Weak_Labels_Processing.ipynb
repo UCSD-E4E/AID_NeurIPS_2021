{
 "cells": [
  {
   "cell_type": "code",
   "execution_count": 1,
   "id": "f359a47a",
   "metadata": {},
   "outputs": [],
   "source": [
    "import pandas as pd\n",
    "import matplotlib.pyplot as plot"
   ]
  },
  {
   "cell_type": "code",
   "execution_count": 2,
   "id": "791d482d",
   "metadata": {},
   "outputs": [],
   "source": [
    "# Reading in all of the csv files\n",
    "baseline_random_sample_df = pd.read_csv(\"./NeurIPS_Labels/Random_Sample_Weak_Labels.csv\")\n",
    "skewed_random_sample_df = pd.read_csv(\"./NeurIPS_Labels/Skewed_Weak_Labels.csv\")\n",
    "dawn_dusk_random_sample_df = pd.read_csv(\"./NeurIPS_Labels/DawnDusk_Weak_Labels.csv\")\n",
    "skewed_dawn_dusk_random_sample_df = pd.read_csv(\"./NeurIPS_Labels/Skewed_DawnDusk_Weak_Labels.csv\")"
   ]
  },
  {
   "cell_type": "code",
   "execution_count": 3,
   "id": "a8f76fff",
   "metadata": {},
   "outputs": [
    {
     "data": {
      "text/html": [
       "<div>\n",
       "<style scoped>\n",
       "    .dataframe tbody tr th:only-of-type {\n",
       "        vertical-align: middle;\n",
       "    }\n",
       "\n",
       "    .dataframe tbody tr th {\n",
       "        vertical-align: top;\n",
       "    }\n",
       "\n",
       "    .dataframe thead th {\n",
       "        text-align: right;\n",
       "    }\n",
       "</style>\n",
       "<table border=\"1\" class=\"dataframe\">\n",
       "  <thead>\n",
       "    <tr style=\"text-align: right;\">\n",
       "      <th></th>\n",
       "      <th>Filename</th>\n",
       "      <th>Bird(y/n)</th>\n",
       "      <th>Heavy Activity(y/n)</th>\n",
       "    </tr>\n",
       "  </thead>\n",
       "  <tbody>\n",
       "    <tr>\n",
       "      <th>0</th>\n",
       "      <td>20210810_202000.WAV</td>\n",
       "      <td>y</td>\n",
       "      <td>n</td>\n",
       "    </tr>\n",
       "    <tr>\n",
       "      <th>1</th>\n",
       "      <td>20210811_080000.WAV</td>\n",
       "      <td>y</td>\n",
       "      <td>n</td>\n",
       "    </tr>\n",
       "    <tr>\n",
       "      <th>2</th>\n",
       "      <td>20210811_181000.WAV</td>\n",
       "      <td>y</td>\n",
       "      <td>y</td>\n",
       "    </tr>\n",
       "    <tr>\n",
       "      <th>3</th>\n",
       "      <td>20210812_073000.WAV</td>\n",
       "      <td>n</td>\n",
       "      <td>n</td>\n",
       "    </tr>\n",
       "    <tr>\n",
       "      <th>4</th>\n",
       "      <td>20210815_134000.WAV</td>\n",
       "      <td>y</td>\n",
       "      <td>y</td>\n",
       "    </tr>\n",
       "    <tr>\n",
       "      <th>...</th>\n",
       "      <td>...</td>\n",
       "      <td>...</td>\n",
       "      <td>...</td>\n",
       "    </tr>\n",
       "    <tr>\n",
       "      <th>235</th>\n",
       "      <td>20210823_092000.WAV</td>\n",
       "      <td>n</td>\n",
       "      <td>n</td>\n",
       "    </tr>\n",
       "    <tr>\n",
       "      <th>236</th>\n",
       "      <td>20210824_034000.WAV</td>\n",
       "      <td>n</td>\n",
       "      <td>n</td>\n",
       "    </tr>\n",
       "    <tr>\n",
       "      <th>237</th>\n",
       "      <td>20210824_170000.WAV</td>\n",
       "      <td>y</td>\n",
       "      <td>n</td>\n",
       "    </tr>\n",
       "    <tr>\n",
       "      <th>238</th>\n",
       "      <td>20210820_040000_OFF6.WAV</td>\n",
       "      <td>n</td>\n",
       "      <td>n</td>\n",
       "    </tr>\n",
       "    <tr>\n",
       "      <th>239</th>\n",
       "      <td>20210819_142000_OFF3.WAV</td>\n",
       "      <td>y</td>\n",
       "      <td>y</td>\n",
       "    </tr>\n",
       "  </tbody>\n",
       "</table>\n",
       "<p>240 rows × 3 columns</p>\n",
       "</div>"
      ],
      "text/plain": [
       "                     Filename Bird(y/n) Heavy Activity(y/n)\n",
       "0         20210810_202000.WAV         y                   n\n",
       "1         20210811_080000.WAV         y                   n\n",
       "2         20210811_181000.WAV         y                   y\n",
       "3         20210812_073000.WAV         n                   n\n",
       "4         20210815_134000.WAV         y                   y\n",
       "..                        ...       ...                 ...\n",
       "235       20210823_092000.WAV         n                   n\n",
       "236       20210824_034000.WAV         n                   n\n",
       "237       20210824_170000.WAV         y                   n\n",
       "238  20210820_040000_OFF6.WAV         n                   n\n",
       "239  20210819_142000_OFF3.WAV         y                   y\n",
       "\n",
       "[240 rows x 3 columns]"
      ]
     },
     "execution_count": 3,
     "metadata": {},
     "output_type": "execute_result"
    }
   ],
   "source": [
    "baseline_random_sample_df"
   ]
  },
  {
   "cell_type": "code",
   "execution_count": 4,
   "id": "280bbaff",
   "metadata": {},
   "outputs": [
    {
     "name": "stdout",
     "output_type": "stream",
     "text": [
      "Total clips in Stratified Random Sample:  240\n",
      "Number of clips confirmed to have birds:  105\n",
      "Number of clips confirmed to not have birds:  135\n",
      "Number of clips confirmed to have multiple birds:  59\n",
      "Number of clips confirmed to have little to no birds:  181\n"
     ]
    }
   ],
   "source": [
    "# Numbers for Stratified Random Sample\n",
    "stratified_random_sample_clip_count = len(baseline_random_sample_df)\n",
    "print(\"Total clips in Stratified Random Sample: \", str(stratified_random_sample_clip_count))\n",
    "\n",
    "stratified_random_sample_bird_present_clip_count = len(baseline_random_sample_df[baseline_random_sample_df[\"Bird(y/n)\"] == \"y\"])\n",
    "print(\"Number of clips confirmed to have birds: \",str(stratified_random_sample_bird_present_clip_count))\n",
    "\n",
    "stratified_random_sample_bird_absent_clip_count = len(baseline_random_sample_df[baseline_random_sample_df[\"Bird(y/n)\"] == \"n\"])\n",
    "print(\"Number of clips confirmed to not have birds: \",str(stratified_random_sample_bird_absent_clip_count))\n",
    "\n",
    "stratified_random_sample_high_activity_clip_count = len(baseline_random_sample_df[baseline_random_sample_df[\"Heavy Activity(y/n)\"] == \"y\"])\n",
    "print(\"Number of clips confirmed to have multiple birds: \",str(stratified_random_sample_high_activity_clip_count))\n",
    "\n",
    "stratified_random_sample_low_activity_clip_count = len(baseline_random_sample_df[baseline_random_sample_df[\"Heavy Activity(y/n)\"] == \"n\"])\n",
    "print(\"Number of clips confirmed to have little to no birds: \",str(stratified_random_sample_low_activity_clip_count))"
   ]
  },
  {
   "cell_type": "code",
   "execution_count": 5,
   "id": "0a4f64f0",
   "metadata": {},
   "outputs": [
    {
     "name": "stdout",
     "output_type": "stream",
     "text": [
      "Total clips in Skewed Random Sample:  240\n",
      "Number of clips confirmed to have birds:  158\n",
      "Number of clips confirmed to not have birds:  82\n",
      "Number of clips confirmed to have multiple birds:  89\n",
      "Number of clips confirmed to have little to no birds:  151\n"
     ]
    }
   ],
   "source": [
    "# Numbers for Skewed Random Sample\n",
    "skewed_sample_clip_count = len(skewed_random_sample_df)\n",
    "print(\"Total clips in Skewed Random Sample: \", str(skewed_sample_clip_count))\n",
    "\n",
    "skewed_random_sample_bird_present_clip_count = len(skewed_random_sample_df[skewed_random_sample_df[\"Bird(y/n)\"] == \"y\"])\n",
    "print(\"Number of clips confirmed to have birds: \",str(skewed_random_sample_bird_present_clip_count))\n",
    "\n",
    "skewed_random_sample_bird_absent_clip_count = len(skewed_random_sample_df[skewed_random_sample_df[\"Bird(y/n)\"] == \"n\"])\n",
    "print(\"Number of clips confirmed to not have birds: \",str(skewed_random_sample_bird_absent_clip_count))\n",
    "\n",
    "skewed_random_sample_high_activity_clip_count = len(skewed_random_sample_df[skewed_random_sample_df[\"Heavy Activity(y/n)\"] == \"y\"])\n",
    "print(\"Number of clips confirmed to have multiple birds: \",str(skewed_random_sample_high_activity_clip_count))\n",
    "\n",
    "skewed_random_sample_low_activity_clip_count = len(skewed_random_sample_df[skewed_random_sample_df[\"Heavy Activity(y/n)\"] == \"n\"])\n",
    "print(\"Number of clips confirmed to have little to no birds: \",str(skewed_random_sample_low_activity_clip_count))"
   ]
  },
  {
   "cell_type": "code",
   "execution_count": 6,
   "id": "f7c0fadc",
   "metadata": {},
   "outputs": [
    {
     "name": "stdout",
     "output_type": "stream",
     "text": [
      "Total clips in Dawn-Dusk Random Sample:  240\n",
      "Number of clips confirmed to have birds:  210\n",
      "Number of clips confirmed to not have birds:  30\n",
      "Number of clips confirmed to have multiple birds:  148\n",
      "Number of clips confirmed to have little to no birds:  92\n"
     ]
    }
   ],
   "source": [
    "# Numbers for Dawn-Dusk Random Sample\n",
    "dawndusk_sample_clip_count = len(dawn_dusk_random_sample_df)\n",
    "print(\"Total clips in Dawn-Dusk Random Sample: \", str(dawndusk_sample_clip_count))\n",
    "\n",
    "dawndusk_random_sample_bird_present_clip_count = len(dawn_dusk_random_sample_df[dawn_dusk_random_sample_df[\"Bird(y/n)\"] == \"y\"])\n",
    "print(\"Number of clips confirmed to have birds: \",str(dawndusk_random_sample_bird_present_clip_count))\n",
    "\n",
    "dawndusk_random_sample_bird_absent_clip_count = len(dawn_dusk_random_sample_df[dawn_dusk_random_sample_df[\"Bird(y/n)\"] == \"n\"])\n",
    "print(\"Number of clips confirmed to not have birds: \",str(dawndusk_random_sample_bird_absent_clip_count))\n",
    "\n",
    "dawndusk_random_sample_high_activity_clip_count = len(dawn_dusk_random_sample_df[dawn_dusk_random_sample_df[\"Heavy Activity(y/n)\"] == \"y\"])\n",
    "print(\"Number of clips confirmed to have multiple birds: \",str(dawndusk_random_sample_high_activity_clip_count))\n",
    "\n",
    "dawndusk_random_sample_low_activity_clip_count = len(dawn_dusk_random_sample_df[dawn_dusk_random_sample_df[\"Heavy Activity(y/n)\"] == \"n\"])\n",
    "print(\"Number of clips confirmed to have little to no birds: \",str(dawndusk_random_sample_low_activity_clip_count))"
   ]
  },
  {
   "cell_type": "code",
   "execution_count": 7,
   "id": "9ff81920",
   "metadata": {},
   "outputs": [
    {
     "name": "stdout",
     "output_type": "stream",
     "text": [
      "Total clips in Dawn-Dusk Random Sample:  240\n",
      "Number of clips confirmed to have birds:  228\n",
      "Number of clips confirmed to not have birds:  12\n",
      "Number of clips confirmed to have multiple birds:  182\n",
      "Number of clips confirmed to have little to no birds:  58\n"
     ]
    }
   ],
   "source": [
    "# Numbers for Skewed Dawn-Dusk Random Sample\n",
    "skewed_dawndusk_sample_clip_count = len(skewed_dawn_dusk_random_sample_df)\n",
    "print(\"Total clips in Dawn-Dusk Random Sample: \", str(skewed_dawndusk_sample_clip_count))\n",
    "\n",
    "skewed_dawndusk_random_sample_bird_present_clip_count = len(skewed_dawn_dusk_random_sample_df[skewed_dawn_dusk_random_sample_df[\"Bird(y/n)\"] == \"y\"])\n",
    "print(\"Number of clips confirmed to have birds: \",str(skewed_dawndusk_random_sample_bird_present_clip_count))\n",
    "\n",
    "skewed_dawndusk_random_sample_bird_absent_clip_count = len(skewed_dawn_dusk_random_sample_df[skewed_dawn_dusk_random_sample_df[\"Bird(y/n)\"] == \"n\"])\n",
    "print(\"Number of clips confirmed to not have birds: \",str(skewed_dawndusk_random_sample_bird_absent_clip_count))\n",
    "\n",
    "skewed_dawndusk_random_sample_high_activity_clip_count = len(skewed_dawn_dusk_random_sample_df[skewed_dawn_dusk_random_sample_df[\"Heavy Activity(y/n)\"] == \"y\"])\n",
    "print(\"Number of clips confirmed to have multiple birds: \",str(skewed_dawndusk_random_sample_high_activity_clip_count))\n",
    "\n",
    "skewed_dawndusk_random_sample_low_activity_clip_count = len(skewed_dawn_dusk_random_sample_df[skewed_dawn_dusk_random_sample_df[\"Heavy Activity(y/n)\"] == \"n\"])\n",
    "print(\"Number of clips confirmed to have little to no birds: \",str(skewed_dawndusk_random_sample_low_activity_clip_count))"
   ]
  },
  {
   "cell_type": "code",
   "execution_count": null,
   "id": "8bf6fe59",
   "metadata": {},
   "outputs": [],
   "source": []
  },
  {
   "cell_type": "code",
   "execution_count": 9,
   "id": "eff4943f",
   "metadata": {},
   "outputs": [
    {
     "data": {
      "image/png": "[encoded data removed]",
      "text/plain": [
       "<Figure size 432x288 with 1 Axes>"
      ]
     },
     "metadata": {
      "needs_background": "light"
     },
     "output_type": "display_data"
    }
   ],
   "source": [
    "fig = plot.figure()\n",
    "#fig, ax = plot.subplots(figsize=(20, 10))\n",
    "ax = fig.add_axes([0,0,1,1])\n",
    "datasets = [\"Random Sample\",\"Skewed Sample\",\"Dawn-Dusk Sample\",\"Skewed Dawn-Dusk\\nSample\"]\n",
    "clip_counts = [240,240,240,240]\n",
    "bird_present_counts = [105, 158, 210, 228]\n",
    "bird_present_rates = [.4375,.6583,.875,.95]\n",
    "high_activity_counts = [59, 89, 148, 182]\n",
    "high_activity_rates = [.2458,.3708,.6167,.7583]\n",
    "ax.bar(datasets,clip_counts)\n",
    "ax.bar(datasets,bird_present_counts)\n",
    "ax.bar(datasets,high_activity_counts)\n",
    "ax.legend(loc = \"lower left\",labels=[\"Bird Absent Count\", \"Bird Present Count\", \"High Activity Count\"])\n",
    "ax.set_title(\"Bird Vocalization Dataset Comparisons\")\n",
    "ax.set_ylabel(\"Number of Audio Recordings\")\n",
    "ax.set_xlabel(\"Datasets\")\n",
    "#plot.ylim(0,240)\n",
    "fig.savefig(\"Bird_Vocalization_Dataset_Comparisons.png\",bbox_inches='tight')\n",
    "#plot.show()"
   ]
  },
  {
   "cell_type": "code",
   "execution_count": null,
   "id": "596ec95b",
   "metadata": {},
   "outputs": [],
   "source": []
  }
 ],
 "metadata": {
  "kernelspec": {
   "display_name": "Python 3",
   "language": "python",
   "name": "python3"
  },
  "language_info": {
   "codemirror_mode": {
    "name": "ipython",
    "version": 3
   },
   "file_extension": ".py",
   "mimetype": "text/x-python",
   "name": "python",
   "nbconvert_exporter": "python",
   "pygments_lexer": "ipython3",
   "version": "3.7.10"
  }
 },
 "nbformat": 4,
 "nbformat_minor": 5
}
